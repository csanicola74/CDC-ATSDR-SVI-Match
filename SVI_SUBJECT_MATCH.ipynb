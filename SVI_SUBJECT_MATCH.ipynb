{
  "nbformat": 4,
  "nbformat_minor": 0,
  "metadata": {
    "colab": {
      "provenance": [],
      "authorship_tag": "ABX9TyPSGiA1kl4qG9FR8u84QYID",
      "include_colab_link": true
    },
    "kernelspec": {
      "name": "python3",
      "display_name": "Python 3"
    },
    "language_info": {
      "name": "python"
    }
  },
  "cells": [
    {
      "cell_type": "markdown",
      "metadata": {
        "id": "view-in-github",
        "colab_type": "text"
      },
      "source": [
        "<a href=\"https://colab.research.google.com/github/csanicola74/CDC-ATSDR-SVI-Match/blob/main/SVI_SUBJECT_MATCH.ipynb\" target=\"_parent\"><img src=\"https://colab.research.google.com/assets/colab-badge.svg\" alt=\"Open In Colab\"/></a>"
      ]
    },
    {
      "cell_type": "markdown",
      "source": [
        "# Install all of the necessary libraries for running the script"
      ],
      "metadata": {
        "id": "QHT04CoWaIS3"
      }
    },
    {
      "cell_type": "code",
      "execution_count": 1,
      "metadata": {
        "colab": {
          "base_uri": "https://localhost:8080/"
        },
        "id": "HIiaBC5zZq5L",
        "outputId": "4a62065c-7b51-43df-9f61-d92936d9d9dc"
      },
      "outputs": [
        {
          "output_type": "stream",
          "name": "stdout",
          "text": [
            "Requirement already satisfied: pandas in /usr/local/lib/python3.10/dist-packages (1.5.3)\n",
            "Requirement already satisfied: python-dateutil>=2.8.1 in /usr/local/lib/python3.10/dist-packages (from pandas) (2.8.2)\n",
            "Requirement already satisfied: pytz>=2020.1 in /usr/local/lib/python3.10/dist-packages (from pandas) (2023.3.post1)\n",
            "Requirement already satisfied: numpy>=1.21.0 in /usr/local/lib/python3.10/dist-packages (from pandas) (1.23.5)\n",
            "Requirement already satisfied: six>=1.5 in /usr/local/lib/python3.10/dist-packages (from python-dateutil>=2.8.1->pandas) (1.16.0)\n",
            "Requirement already satisfied: numpy in /usr/local/lib/python3.10/dist-packages (1.23.5)\n"
          ]
        }
      ],
      "source": [
        "!pip install pandas\n",
        "!pip install numpy"
      ]
    },
    {
      "cell_type": "markdown",
      "source": [
        "# Adding in the 3 CSV Files for the Matching\n",
        "1. Patient Data taken from Stony Brook University Hospital and Johns Hopkins University Hospital\n",
        "2. Zip code to County crosswalk file provided by the U.S. Office of Policy Development and Research (PD&R) is used to add county names to the addresses. The crosswalk file is available at https://www.huduser.gov/apps/public/uspscrosswalk/home\n",
        "3. The SVI data is from the Center for Disease Control and Prevention (CDC) and is available at https://www.atsdr.cdc.gov/placeandhealth/svi/data_documentation_download.html (Year: 2020; Geography: United States; Geography Type: Counties)"
      ],
      "metadata": {
        "id": "-wqNcpNFaYhM"
      }
    },
    {
      "cell_type": "code",
      "source": [
        "import pandas as pd\n",
        "\n",
        "# Load the three CSV files into dataframes\n",
        "address_data = pd.read_csv('https://raw.githubusercontent.com/csanicola74/CDC-ATSDR-SVI-Match/main/data/cleaned_sample_address_data.csv')\n",
        "zip_county_crosswalk = pd.read_csv('https://raw.githubusercontent.com/csanicola74/CDC-ATSDR-SVI-Match/main/data/ZIP_COUNTY_032023.csv')\n",
        "svi_data = pd.read_csv('https://raw.githubusercontent.com/csanicola74/CDC-ATSDR-SVI-Match/main/data/SVI_2020_US_county.csv')"
      ],
      "metadata": {
        "id": "ZjQTc-wSaj0f"
      },
      "execution_count": 2,
      "outputs": []
    },
    {
      "cell_type": "markdown",
      "source": [
        "# Match the ZIP CODES to County FIPS"
      ],
      "metadata": {
        "id": "42YFD9WFal30"
      }
    },
    {
      "cell_type": "code",
      "source": [
        "# Pivot the ZIP_COUNTY crosswalk to get each ZIP and its corresponding county FIPS in a single row\n",
        "zip_county_pivot = zip_county_crosswalk.pivot_table(index='ZIP', values='COUNTY', aggfunc=lambda x: list(x)).reset_index()"
      ],
      "metadata": {
        "id": "rSfF3UDFapA9"
      },
      "execution_count": 3,
      "outputs": []
    },
    {
      "cell_type": "code",
      "source": [
        "# Convert the list of COUNTY FIPS to separate columns\n",
        "max_counties_for_zip = zip_county_pivot['COUNTY'].apply(len).max()\n",
        "for i in range(max_counties_for_zip):\n",
        "    zip_county_pivot[f'COUNTY_{i+1}'] = zip_county_pivot['COUNTY'].apply(lambda x: x[i] if i < len(x) else None)\n",
        "zip_county_pivot = zip_county_pivot.drop(columns=['COUNTY'])"
      ],
      "metadata": {
        "id": "1_O6eU_parp8"
      },
      "execution_count": 4,
      "outputs": []
    },
    {
      "cell_type": "code",
      "source": [
        "# Merge the address_data with the reshaped zip_county_pivot\n",
        "merged_data = pd.merge(address_data, zip_county_pivot, left_on='ZIP CODE', right_on='ZIP', how='left')\n",
        "merged_data = merged_data.drop(columns=['ZIP'])"
      ],
      "metadata": {
        "id": "uIsi1Beqat7g"
      },
      "execution_count": 5,
      "outputs": []
    },
    {
      "cell_type": "markdown",
      "source": [
        "# Pull the National Overall SVI Score ('RLP_THEMES') for each County FIPS"
      ],
      "metadata": {
        "id": "QNwWYzurausE"
      }
    },
    {
      "cell_type": "code",
      "source": [
        "# Create a dictionary to map STCNTY (county FIPS) to RPL_THEMES\n",
        "fips_to_rpl = dict(zip(svi_data['STCNTY'], svi_data['RPL_THEMES']))\n",
        "\n",
        "# For each COUNTY column in the merged dataframe, map the RPL_THEMES value\n",
        "for i in range(1, max_counties_for_zip + 1):\n",
        "    merged_data[f'RPL_THEMES_{i}'] = merged_data[f'COUNTY_{i}'].map(fips_to_rpl)\n",
        "\n",
        "# Save the final merged dataframe to a CSV file\n",
        "merged_data.to_csv('final_merged_data.csv', index=False)"
      ],
      "metadata": {
        "id": "awvVrAvOawnL"
      },
      "execution_count": 9,
      "outputs": []
    },
    {
      "cell_type": "code",
      "source": [
        "# Pull the Unique Value Count of the RPL_THEMES columns\n",
        "merged_data['RPL_THEMES_1'].value_counts()"
      ],
      "metadata": {
        "colab": {
          "base_uri": "https://localhost:8080/"
        },
        "id": "NBqDb0_za0YJ",
        "outputId": "fc4330b6-0a07-499b-a753-4724006a8143"
      },
      "execution_count": 10,
      "outputs": [
        {
          "output_type": "execute_result",
          "data": {
            "text/plain": [
              "0.8845    1394\n",
              "0.9955     876\n",
              "0.6668     711\n",
              "0.7747     692\n",
              "0.5808     116\n",
              "0.6817       4\n",
              "Name: RPL_THEMES_1, dtype: int64"
            ]
          },
          "metadata": {},
          "execution_count": 10
        }
      ]
    },
    {
      "cell_type": "code",
      "source": [
        "merged_data['RPL_THEMES_2'].value_counts()"
      ],
      "metadata": {
        "colab": {
          "base_uri": "https://localhost:8080/"
        },
        "id": "GXiE8z-BbpJR",
        "outputId": "88fcfc4a-9b18-4ae3-8cc8-284c8222e8e3"
      },
      "execution_count": 11,
      "outputs": [
        {
          "output_type": "execute_result",
          "data": {
            "text/plain": [
              "0.8845    91\n",
              "0.6817    68\n",
              "0.2782    26\n",
              "0.6668    14\n",
              "0.9955     4\n",
              "Name: RPL_THEMES_2, dtype: int64"
            ]
          },
          "metadata": {},
          "execution_count": 11
        }
      ]
    },
    {
      "cell_type": "code",
      "source": [
        "merged_data['RPL_THEMES_3'].value_counts()"
      ],
      "metadata": {
        "colab": {
          "base_uri": "https://localhost:8080/"
        },
        "id": "KVOHw4TjbqUO",
        "outputId": "8bd74512-9788-4408-bce0-0e70dfb9bfe3"
      },
      "execution_count": 12,
      "outputs": [
        {
          "output_type": "execute_result",
          "data": {
            "text/plain": [
              "Series([], Name: RPL_THEMES_3, dtype: int64)"
            ]
          },
          "metadata": {},
          "execution_count": 12
        }
      ]
    },
    {
      "cell_type": "code",
      "source": [
        "merged_data['RPL_THEMES_4'].value_counts()"
      ],
      "metadata": {
        "colab": {
          "base_uri": "https://localhost:8080/"
        },
        "id": "bsqn7YUubrMr",
        "outputId": "f1394cf0-f722-44a6-c8a9-dacaf9a6d734"
      },
      "execution_count": 13,
      "outputs": [
        {
          "output_type": "execute_result",
          "data": {
            "text/plain": [
              "Series([], Name: RPL_THEMES_4, dtype: int64)"
            ]
          },
          "metadata": {},
          "execution_count": 13
        }
      ]
    },
    {
      "cell_type": "code",
      "source": [
        "merged_data['RPL_THEMES_5'].value_counts()"
      ],
      "metadata": {
        "colab": {
          "base_uri": "https://localhost:8080/"
        },
        "id": "z0f3_38JbsLk",
        "outputId": "eaac8857-86c1-4ea6-ad58-012ccb4aca0f"
      },
      "execution_count": 14,
      "outputs": [
        {
          "output_type": "execute_result",
          "data": {
            "text/plain": [
              "Series([], Name: RPL_THEMES_5, dtype: int64)"
            ]
          },
          "metadata": {},
          "execution_count": 14
        }
      ]
    },
    {
      "cell_type": "code",
      "source": [
        "merged_data['RPL_THEMES_6'].value_counts()"
      ],
      "metadata": {
        "colab": {
          "base_uri": "https://localhost:8080/"
        },
        "id": "2P2rAy5ZbuzS",
        "outputId": "941cf705-4beb-435d-8377-acaaaa7a5792"
      },
      "execution_count": 15,
      "outputs": [
        {
          "output_type": "execute_result",
          "data": {
            "text/plain": [
              "Series([], Name: RPL_THEMES_6, dtype: int64)"
            ]
          },
          "metadata": {},
          "execution_count": 15
        }
      ]
    },
    {
      "cell_type": "code",
      "source": [
        "merged_data['RPL_THEMES_7'].value_counts()"
      ],
      "metadata": {
        "colab": {
          "base_uri": "https://localhost:8080/"
        },
        "id": "YA4fD9UEbxJo",
        "outputId": "f7c11e5b-766d-41e0-a896-b06f03218670"
      },
      "execution_count": 16,
      "outputs": [
        {
          "output_type": "execute_result",
          "data": {
            "text/plain": [
              "Series([], Name: RPL_THEMES_7, dtype: int64)"
            ]
          },
          "metadata": {},
          "execution_count": 16
        }
      ]
    }
  ]
}