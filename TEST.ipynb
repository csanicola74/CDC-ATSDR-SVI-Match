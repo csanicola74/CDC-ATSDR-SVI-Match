{
 "cells": [
  {
   "cell_type": "markdown",
   "metadata": {},
   "source": [
    "# Install all the necessary libraries for running the scripts"
   ]
  },
  {
   "cell_type": "code",
   "execution_count": 1,
   "metadata": {},
   "outputs": [
    {
     "name": "stdout",
     "output_type": "stream",
     "text": [
      "Requirement already satisfied: pandas in /opt/homebrew/lib/python3.10/site-packages (1.5.1)\n",
      "Requirement already satisfied: python-dateutil>=2.8.1 in /opt/homebrew/lib/python3.10/site-packages (from pandas) (2.8.2)\n",
      "Requirement already satisfied: pytz>=2020.1 in /opt/homebrew/lib/python3.10/site-packages (from pandas) (2022.5)\n",
      "Requirement already satisfied: numpy>=1.21.0 in /opt/homebrew/lib/python3.10/site-packages (from pandas) (1.22.4)\n",
      "Requirement already satisfied: six>=1.5 in /opt/homebrew/lib/python3.10/site-packages (from python-dateutil>=2.8.1->pandas) (1.16.0)\n",
      "\n",
      "\u001b[1m[\u001b[0m\u001b[34;49mnotice\u001b[0m\u001b[1;39;49m]\u001b[0m\u001b[39;49m A new release of pip is available: \u001b[0m\u001b[31;49m23.0.1\u001b[0m\u001b[39;49m -> \u001b[0m\u001b[32;49m23.2.1\u001b[0m\n",
      "\u001b[1m[\u001b[0m\u001b[34;49mnotice\u001b[0m\u001b[1;39;49m]\u001b[0m\u001b[39;49m To update, run: \u001b[0m\u001b[32;49mpython3.10 -m pip install --upgrade pip\u001b[0m\n",
      "Requirement already satisfied: numpy in /opt/homebrew/lib/python3.10/site-packages (1.22.4)\n",
      "\n",
      "\u001b[1m[\u001b[0m\u001b[34;49mnotice\u001b[0m\u001b[1;39;49m]\u001b[0m\u001b[39;49m A new release of pip is available: \u001b[0m\u001b[31;49m23.0.1\u001b[0m\u001b[39;49m -> \u001b[0m\u001b[32;49m23.2.1\u001b[0m\n",
      "\u001b[1m[\u001b[0m\u001b[34;49mnotice\u001b[0m\u001b[1;39;49m]\u001b[0m\u001b[39;49m To update, run: \u001b[0m\u001b[32;49mpython3.10 -m pip install --upgrade pip\u001b[0m\n"
     ]
    }
   ],
   "source": [
    "!pip install pandas\n",
    "!pip install numpy"
   ]
  },
  {
   "cell_type": "markdown",
   "metadata": {},
   "source": [
    "# Adding in the 3 CSV Files for the Matching\n",
    "1. Patient Data taken from Stony Brook University Hospital and Johns Hopkins University Hospital\n",
    "2. Zip code to County crosswalk file provided by the U.S. Office of Policy Development and Research (PD&R) is used to add county names to the addresses. The crosswalk file is available at https://www.huduser.gov/apps/public/uspscrosswalk/home\n",
    "3. The SVI data is from the Center for Disease Control and Prevention (CDC) and is available at https://www.atsdr.cdc.gov/placeandhealth/svi/data_documentation_download.html (**Year**: 2020; **Geography**: United States; **Geography Type**: Counties)"
   ]
  },
  {
   "cell_type": "code",
   "execution_count": 2,
   "metadata": {},
   "outputs": [],
   "source": [
    "import pandas as pd\n",
    "\n",
    "# Load the three CSV files into dataframes\n",
    "address_data = pd.read_csv('data/cleaned_sample_address_data.csv')\n",
    "zip_county_crosswalk = pd.read_csv('data/ZIP_COUNTY_032023.csv')\n",
    "svi_data = pd.read_csv('data/SVI_2020_US_county.csv')"
   ]
  },
  {
   "cell_type": "markdown",
   "metadata": {},
   "source": [
    "# Match the ZIP CODES to County FIPS"
   ]
  },
  {
   "cell_type": "code",
   "execution_count": 3,
   "metadata": {},
   "outputs": [],
   "source": [
    "# Pivot the ZIP_COUNTY crosswalk to get each ZIP and its corresponding county FIPS in a single row\n",
    "zip_county_pivot = zip_county_crosswalk.pivot_table(index='ZIP', values='COUNTY', aggfunc=lambda x: list(x)).reset_index()\n"
   ]
  },
  {
   "cell_type": "code",
   "execution_count": 4,
   "metadata": {},
   "outputs": [],
   "source": [
    "# Convert the list of COUNTY FIPS to separate columns\n",
    "max_counties_for_zip = zip_county_pivot['COUNTY'].apply(len).max()\n",
    "for i in range(max_counties_for_zip):\n",
    "    zip_county_pivot[f'COUNTY_{i+1}'] = zip_county_pivot['COUNTY'].apply(lambda x: x[i] if i < len(x) else None)\n",
    "zip_county_pivot = zip_county_pivot.drop(columns=['COUNTY'])"
   ]
  },
  {
   "cell_type": "code",
   "execution_count": 5,
   "metadata": {},
   "outputs": [],
   "source": [
    "# Merge the address_data with the reshaped zip_county_pivot\n",
    "merged_data = pd.merge(address_data, zip_county_pivot, left_on='ZIP CODE', right_on='ZIP', how='left')\n",
    "merged_data = merged_data.drop(columns=['ZIP'])"
   ]
  },
  {
   "cell_type": "markdown",
   "metadata": {},
   "source": [
    "# Pull the National Overall SVI Score ('RLP_THEMES') for each County FIPS"
   ]
  },
  {
   "cell_type": "code",
   "execution_count": 6,
   "metadata": {},
   "outputs": [],
   "source": [
    "# Create a dictionary to map STCNTY (county FIPS) to RPL_THEMES\n",
    "fips_to_rpl = dict(zip(svi_data['STCNTY'], svi_data['RPL_THEMES']))\n",
    "\n",
    "# For each COUNTY column in the merged dataframe, map the RPL_THEMES value\n",
    "for i in range(1, max_counties_for_zip + 1):\n",
    "    merged_data[f'RPL_THEMES_{i}'] = merged_data[f'COUNTY_{i}'].map(fips_to_rpl)\n",
    "\n",
    "# Save the final merged dataframe to a CSV file\n",
    "merged_data.to_csv('data/final_merged_data.csv', index=False)"
   ]
  },
  {
   "cell_type": "code",
   "execution_count": 7,
   "metadata": {},
   "outputs": [
    {
     "data": {
      "text/plain": [
       "RPL_THEMES_1\n",
       "0.8845    1394\n",
       "0.9955     876\n",
       "0.6668     711\n",
       "0.7747     692\n",
       "0.5808     116\n",
       "0.6817       4\n",
       "Name: count, dtype: int64"
      ]
     },
     "execution_count": 7,
     "metadata": {},
     "output_type": "execute_result"
    }
   ],
   "source": [
    "# Pull the Unique Value Count of the RPL_THEMES column\n",
    "merged_data['RPL_THEMES_1'].value_counts()"
   ]
  }
 ],
 "metadata": {
  "kernelspec": {
   "display_name": "Python 3",
   "language": "python",
   "name": "python3"
  },
  "language_info": {
   "codemirror_mode": {
    "name": "ipython",
    "version": 3
   },
   "file_extension": ".py",
   "mimetype": "text/x-python",
   "name": "python",
   "nbconvert_exporter": "python",
   "pygments_lexer": "ipython3",
   "version": "3.11.4"
  },
  "orig_nbformat": 4
 },
 "nbformat": 4,
 "nbformat_minor": 2
}
