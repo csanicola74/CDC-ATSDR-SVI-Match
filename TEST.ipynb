{
 "cells": [
  {
   "cell_type": "markdown",
   "metadata": {},
   "source": [
    "# Install all the necessary libraries for running the scripts"
   ]
  },
  {
   "cell_type": "code",
   "execution_count": 1,
   "metadata": {},
   "outputs": [
    {
     "name": "stdout",
     "output_type": "stream",
     "text": [
      "Requirement already satisfied: pandas in c:\\python311\\lib\\site-packages (2.0.3)\n",
      "Requirement already satisfied: python-dateutil>=2.8.2 in c:\\users\\carol\\appdata\\roaming\\python\\python311\\site-packages (from pandas) (2.8.2)\n",
      "Requirement already satisfied: pytz>=2020.1 in c:\\python311\\lib\\site-packages (from pandas) (2023.3)\n",
      "Requirement already satisfied: tzdata>=2022.1 in c:\\python311\\lib\\site-packages (from pandas) (2023.3)\n",
      "Requirement already satisfied: numpy>=1.21.0 in c:\\python311\\lib\\site-packages (from pandas) (1.25.2)\n",
      "Requirement already satisfied: six>=1.5 in c:\\users\\carol\\appdata\\roaming\\python\\python311\\site-packages (from python-dateutil>=2.8.2->pandas) (1.16.0)\n"
     ]
    },
    {
     "name": "stderr",
     "output_type": "stream",
     "text": [
      "\n",
      "[notice] A new release of pip is available: 23.1.2 -> 23.2.1\n",
      "[notice] To update, run: python.exe -m pip install --upgrade pip\n"
     ]
    },
    {
     "name": "stdout",
     "output_type": "stream",
     "text": [
      "Requirement already satisfied: numpy in c:\\python311\\lib\\site-packages (1.25.2)\n"
     ]
    },
    {
     "name": "stderr",
     "output_type": "stream",
     "text": [
      "\n",
      "[notice] A new release of pip is available: 23.1.2 -> 23.2.1\n",
      "[notice] To update, run: python.exe -m pip install --upgrade pip\n"
     ]
    },
    {
     "name": "stdout",
     "output_type": "stream",
     "text": [
      "Requirement already satisfied: pandas in c:\\python311\\lib\\site-packages (2.0.3)\n",
      "Requirement already satisfied: geopy in c:\\python311\\lib\\site-packages (2.3.0)\n",
      "Requirement already satisfied: python-dateutil>=2.8.2 in c:\\users\\carol\\appdata\\roaming\\python\\python311\\site-packages (from pandas) (2.8.2)\n",
      "Requirement already satisfied: pytz>=2020.1 in c:\\python311\\lib\\site-packages (from pandas) (2023.3)\n",
      "Requirement already satisfied: tzdata>=2022.1 in c:\\python311\\lib\\site-packages (from pandas) (2023.3)\n",
      "Requirement already satisfied: numpy>=1.21.0 in c:\\python311\\lib\\site-packages (from pandas) (1.25.2)\n",
      "Requirement already satisfied: geographiclib<3,>=1.52 in c:\\python311\\lib\\site-packages (from geopy) (2.0)\n",
      "Requirement already satisfied: six>=1.5 in c:\\users\\carol\\appdata\\roaming\\python\\python311\\site-packages (from python-dateutil>=2.8.2->pandas) (1.16.0)\n"
     ]
    },
    {
     "name": "stderr",
     "output_type": "stream",
     "text": [
      "\n",
      "[notice] A new release of pip is available: 23.1.2 -> 23.2.1\n",
      "[notice] To update, run: python.exe -m pip install --upgrade pip\n"
     ]
    }
   ],
   "source": [
    "!pip install pandas\n",
    "!pip install numpy\n",
    "!pip install pandas geopy"
   ]
  },
  {
   "cell_type": "markdown",
   "metadata": {},
   "source": [
    "# Make sure the data is in the right format for geocoding"
   ]
  },
  {
   "cell_type": "code",
   "execution_count": 2,
   "metadata": {},
   "outputs": [],
   "source": [
    "import pandas as pd\n",
    "import re"
   ]
  },
  {
   "cell_type": "markdown",
   "metadata": {},
   "source": [
    "## First create a new full address column"
   ]
  },
  {
   "cell_type": "code",
   "execution_count": 8,
   "metadata": {},
   "outputs": [
    {
     "ename": "NameError",
     "evalue": "name 'df' is not defined",
     "output_type": "error",
     "traceback": [
      "\u001b[1;31m---------------------------------------------------------------------------\u001b[0m",
      "\u001b[1;31mNameError\u001b[0m                                 Traceback (most recent call last)",
      "Cell \u001b[1;32mIn[8], line 1\u001b[0m\n\u001b[1;32m----> 1\u001b[0m df[\u001b[39m'\u001b[39m\u001b[39mFULL_ADDRESS\u001b[39m\u001b[39m'\u001b[39m] \u001b[39m=\u001b[39m df[\u001b[39m'\u001b[39m\u001b[39mADDRESS\u001b[39m\u001b[39m'\u001b[39m] \u001b[39m+\u001b[39m \u001b[39m\"\u001b[39m\u001b[39m, \u001b[39m\u001b[39m\"\u001b[39m \u001b[39m+\u001b[39m df[\u001b[39m'\u001b[39m\u001b[39mCITY\u001b[39m\u001b[39m'\u001b[39m] \u001b[39m+\u001b[39m \u001b[39m\"\u001b[39m\u001b[39m, \u001b[39m\u001b[39m\"\u001b[39m \u001b[39m+\u001b[39m df[\u001b[39m'\u001b[39m\u001b[39mSTATE\u001b[39m\u001b[39m'\u001b[39m] \u001b[39m+\u001b[39m \u001b[39m\"\u001b[39m\u001b[39m \u001b[39m\u001b[39m\"\u001b[39m \u001b[39m+\u001b[39m df[\u001b[39m'\u001b[39m\u001b[39mZIP CODE\u001b[39m\u001b[39m'\u001b[39m]\u001b[39m.\u001b[39mastype(\u001b[39mstr\u001b[39m)\n\u001b[0;32m      2\u001b[0m \u001b[39mprint\u001b[39m(df[\u001b[39m'\u001b[39m\u001b[39mFULL_ADDRESS\u001b[39m\u001b[39m'\u001b[39m]\u001b[39m.\u001b[39mhead())\n",
      "\u001b[1;31mNameError\u001b[0m: name 'df' is not defined"
     ]
    }
   ],
   "source": [
    "df = pd.read_csv('D:/GitHub/CDC-ATSDR-SVI-Match/data/sample_address_data.csv')\n",
    "\n",
    "df['FULL_ADDRESS'] = df['ADDRESS'] + \", \" + df['CITY'] + \", \" + df['STATE'] + \" \" + df['ZIP CODE'].astype(str)\n",
    "print(df['FULL_ADDRESS'].head())"
   ]
  },
  {
   "cell_type": "code",
   "execution_count": 3,
   "metadata": {},
   "outputs": [],
   "source": [
    "def clean_address(address):\n",
    "    \"\"\"Clean and standardize the address.\"\"\"\n",
    "\n",
    "    # Convert to title case\n",
    "    address = address.title()\n",
    "\n",
    "    # Remove any leading or trailing white spaces\n",
    "    address = address.strip()\n",
    "\n",
    "    # Replace multiple spaces with a single space\n",
    "    address = re.sub(r'\\s+', ' ', address)\n",
    "\n",
    "    # Standardize common abbreviations\n",
    "    abbreviations = {\n",
    "        ' Street': ' St',\n",
    "        ' Avenue': ' Ave',\n",
    "        ' Boulevard': ' Blvd',\n",
    "        ' Drive': ' Dr',\n",
    "        ' Road': ' Rd',\n",
    "        ' Lane': ' Ln',\n",
    "        ' Court': ' Ct',\n",
    "        ' Place': ' Pl',\n",
    "        ' Square': ' Sq',\n",
    "        ' Loop': ' Lp',\n",
    "        ' Highway': ' Hwy',\n",
    "        ' Terrace': ' Ter',\n",
    "        ' Parkway': ' Pkwy',\n",
    "        ' Suite': ' Ste',\n",
    "        ' Apartment': ' Apt'\n",
    "    }\n",
    "    \n",
    "    for long, short in abbreviations.items():\n",
    "        address = address.replace(long, short)\n",
    "\n",
    "    # Remove special characters except for # which can denote apt/suite numbers\n",
    "    address = re.sub(r'[!@&$%^*()_+={}\\[\\]:;<>,.?~\\\\]', '', address)\n",
    "    \n",
    "    return address"
   ]
  },
  {
   "cell_type": "code",
   "execution_count": 6,
   "metadata": {},
   "outputs": [],
   "source": [
    "def main():\n",
    "    # Load the address dataset\n",
    "    df = pd.read_csv('D:/GitHub/CDC-ATSDR-SVI-Match/data/sample_address_data.csv')\n",
    "\n",
    "    # Clean the address column\n",
    "    df['ADDRESS'] = df['ADDRESS'].apply(clean_address)\n",
    "\n",
    "    # Save the cleaned dataframe to a new CSV file\n",
    "    df.to_csv('D:/GitHub/CDC-ATSDR-SVI-Match/data/cleaned_sample_address_data.csv', index=False)\n",
    "    print(\"Address cleaning completed. Data saved to 'D:/GitHub/CDC-ATSDR-SVI-Match/data/cleaned_sample_address_data.csv'.\")\n"
   ]
  },
  {
   "cell_type": "code",
   "execution_count": 7,
   "metadata": {},
   "outputs": [
    {
     "name": "stdout",
     "output_type": "stream",
     "text": [
      "Address cleaning completed. Data saved to 'D:/GitHub/CDC-ATSDR-SVI-Match/data/cleaned_sample_address_data.csv'.\n"
     ]
    }
   ],
   "source": [
    "if __name__ == \"__main__\":\n",
    "    main()"
   ]
  },
  {
   "cell_type": "markdown",
   "metadata": {},
   "source": [
    "# Geocode the addresses to find the county"
   ]
  },
  {
   "cell_type": "code",
   "execution_count": 2,
   "metadata": {},
   "outputs": [],
   "source": [
    "import pandas as pd\n",
    "from geopy.geocoders import Nominatim\n",
    "from time import sleep"
   ]
  },
  {
   "cell_type": "code",
   "execution_count": 3,
   "metadata": {},
   "outputs": [],
   "source": [
    "def get_county_from_address(address):\n",
    "    \"\"\"Fetch county from address using Nominatim API.\"\"\"\n",
    "    try:\n",
    "        geolocator = Nominatim(user_agent=\"geoapiExercises\")\n",
    "        location = geolocator.geocode(address, timeout=10)\n",
    "        \n",
    "        if location:\n",
    "            # Split the address components\n",
    "            address_components = location.address.split(\", \")\n",
    "            for component in address_components:\n",
    "                if \"County\" in component:\n",
    "                    return component\n",
    "        return None\n",
    "    except:\n",
    "        print(f\"Error geocoding address: {address}\")\n",
    "        return None"
   ]
  },
  {
   "cell_type": "code",
   "execution_count": 6,
   "metadata": {},
   "outputs": [],
   "source": [
    "def main():\n",
    "    # Load the address dataset\n",
    "    df = pd.read_csv('D:/GitHub/CDC-ATSDR-SVI-Match/data/sample_address_data.csv')\n",
    "\n",
    "    # Add a new column for county\n",
    "    df['COUNTY'] = df['ADDRESS'].apply(get_county_from_address)\n",
    "\n",
    "    # Save the updated dataframe to a new CSV file\n",
    "    df.to_csv('sample_address_data_with_county.csv', index=False)\n",
    "    print(\"Geocoding completed. Data saved to 'sample_address_data_with_county.csv'.\")"
   ]
  },
  {
   "cell_type": "code",
   "execution_count": null,
   "metadata": {},
   "outputs": [],
   "source": [
    "if __name__ == \"__main__\":\n",
    "    main()"
   ]
  },
  {
   "cell_type": "markdown",
   "metadata": {},
   "source": [
    "# Match the county and zip to the fips code"
   ]
  },
  {
   "cell_type": "markdown",
   "metadata": {},
   "source": [
    "# Finally merge the two dataframes"
   ]
  }
 ],
 "metadata": {
  "kernelspec": {
   "display_name": "Python 3",
   "language": "python",
   "name": "python3"
  },
  "language_info": {
   "codemirror_mode": {
    "name": "ipython",
    "version": 3
   },
   "file_extension": ".py",
   "mimetype": "text/x-python",
   "name": "python",
   "nbconvert_exporter": "python",
   "pygments_lexer": "ipython3",
   "version": "3.11.4"
  },
  "orig_nbformat": 4
 },
 "nbformat": 4,
 "nbformat_minor": 2
}
